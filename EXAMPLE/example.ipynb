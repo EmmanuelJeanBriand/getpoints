{
 "cells": [
  {
   "cell_type": "code",
   "execution_count": 1,
   "id": "c1f9cc85-19f5-4d98-a7ce-e881246308c7",
   "metadata": {},
   "outputs": [],
   "source": [
    "%run ../get_points.py"
   ]
  },
  {
   "cell_type": "code",
   "execution_count": 2,
   "id": "168b01f7-f73e-487d-89c1-ec7b2ee88486",
   "metadata": {},
   "outputs": [
    {
     "data": {
      "application/vnd.jupyter.widget-view+json": {
       "model_id": "1fd7225df07e42b39423ca40c8b7f4f2",
       "version_major": 2,
       "version_minor": 0
      },
      "text/plain": [
       "Canvas(height=511, width=960)"
      ]
     },
     "metadata": {},
     "output_type": "display_data"
    },
    {
     "data": {
      "application/vnd.jupyter.widget-view+json": {
       "model_id": "6806138254fc46198d117a410a32bff1",
       "version_major": 2,
       "version_minor": 0
      },
      "text/plain": [
       "Output()"
      ]
     },
     "metadata": {},
     "output_type": "display_data"
    }
   ],
   "source": [
    "L = get_points('dipylon_horizontal.jpg')"
   ]
  },
  {
   "cell_type": "code",
   "execution_count": 3,
   "id": "8b3de073-92b5-40f2-864a-d6519476f9e1",
   "metadata": {},
   "outputs": [
    {
     "name": "stdout",
     "output_type": "stream",
     "text": [
      "[(80.25, 167.75), (204.25, 82.75), (343.25, 36.75), (466.25, 35.75), (567.25, 91.75), (623.25, 158.75), (687.25, 166.75), (806.25, 157.75), (881.25, 148.75)]\n"
     ]
    }
   ],
   "source": [
    "print(L)"
   ]
  }
 ],
 "metadata": {
  "kernelspec": {
   "display_name": "Python 3 (ipykernel)",
   "language": "python",
   "name": "python3"
  },
  "language_info": {
   "codemirror_mode": {
    "name": "ipython",
    "version": 3
   },
   "file_extension": ".py",
   "mimetype": "text/x-python",
   "name": "python",
   "nbconvert_exporter": "python",
   "pygments_lexer": "ipython3",
   "version": "3.9.15"
  }
 },
 "nbformat": 4,
 "nbformat_minor": 5
}
